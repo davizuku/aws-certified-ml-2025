{
 "cells": [
  {
   "cell_type": "markdown",
   "id": "96490230-2866-4102-9ca2-dd4516309182",
   "metadata": {},
   "source": [
    "Let's start by loading up a real subset of Wikipedia data I've placed in S3 for you."
   ]
  },
  {
   "cell_type": "code",
   "execution_count": 2,
   "id": "3e97b4b4-ce06-431a-82cb-0ed92fd9e727",
   "metadata": {
    "execution": {
     "iopub.execute_input": "2024-12-13T16:05:06.378649Z",
     "iopub.status.busy": "2024-12-13T16:05:06.378212Z",
     "iopub.status.idle": "2024-12-13T16:05:08.188569Z",
     "shell.execute_reply": "2024-12-13T16:05:08.187823Z",
     "shell.execute_reply.started": "2024-12-13T16:05:06.378616Z"
    },
    "executionRoleArn": "arn:aws:iam::591937272615:role/service-role/aws-ml-cert-emr-runtime-role-2",
    "tags": []
   },
   "outputs": [
    {
     "data": {
      "application/vnd.jupyter.widget-view+json": {
       "model_id": "76a423c591bc42a9af100ab739a4554f",
       "version_major": 2,
       "version_minor": 0
      },
      "text/plain": [
       "VBox()"
      ]
     },
     "metadata": {},
     "output_type": "display_data"
    },
    {
     "data": {
      "application/vnd.jupyter.widget-view+json": {
       "model_id": "",
       "version_major": 2,
       "version_minor": 0
      },
      "text/plain": [
       "FloatProgress(value=0.0, bar_style='info', description='Progress:', layout=Layout(height='25px', width='50%'),…"
      ]
     },
     "metadata": {},
     "output_type": "display_data"
    },
    {
     "name": "stdout",
     "output_type": "stream",
     "text": [
      "hello"
     ]
    }
   ],
   "source": [
    "print(\"hello\")"
   ]
  },
  {
   "cell_type": "code",
   "execution_count": 3,
   "id": "9e44d43e-3540-4b91-ae9a-2c223e60f30c",
   "metadata": {
    "execution": {
     "iopub.execute_input": "2024-12-13T16:05:11.435754Z",
     "iopub.status.busy": "2024-12-13T16:05:11.435314Z",
     "iopub.status.idle": "2024-12-13T16:05:21.152231Z",
     "shell.execute_reply": "2024-12-13T16:05:21.151525Z",
     "shell.execute_reply.started": "2024-12-13T16:05:11.435722Z"
    },
    "executionRoleArn": "arn:aws:iam::591937272615:role/service-role/aws-ml-cert-emr-runtime-role-2",
    "tags": []
   },
   "outputs": [
    {
     "data": {
      "application/vnd.jupyter.widget-view+json": {
       "model_id": "505338851b394eaf82da811569a5ebb8",
       "version_major": 2,
       "version_minor": 0
      },
      "text/plain": [
       "VBox()"
      ]
     },
     "metadata": {},
     "output_type": "display_data"
    },
    {
     "data": {
      "application/vnd.jupyter.widget-view+json": {
       "model_id": "",
       "version_major": 2,
       "version_minor": 0
      },
      "text/plain": [
       "FloatProgress(value=0.0, bar_style='info', description='Progress:', layout=Layout(height='25px', width='50%'),…"
      ]
     },
     "metadata": {},
     "output_type": "display_data"
    },
    {
     "name": "stdout",
     "output_type": "stream",
     "text": [
      "+---+--------------------+-------------------+--------------------+\n",
      "|_c0|                 _c1|                _c2|                 _c3|\n",
      "+---+--------------------+-------------------+--------------------+\n",
      "| 12|           Anarchism|2008-12-30 06:23:05|Anarchism (someti...|\n",
      "| 25|              Autism|2008-12-24 20:41:05|Autism is a brain...|\n",
      "| 39|              Albedo|2008-12-29 18:19:09|The albedo of an ...|\n",
      "|290|                   A|2008-12-27 04:33:16|The letter A is t...|\n",
      "|303|             Alabama|2008-12-29 08:15:47|Alabama (formally...|\n",
      "|305|            Achilles|2008-12-30 06:18:01|thumb\\n\\nIn Greek...|\n",
      "|307|     Abraham Lincoln|2008-12-28 20:18:23|Abraham Lincoln (...|\n",
      "|308|           Aristotle|2008-12-29 23:54:48|Aristotle (Greek:...|\n",
      "|309|An American in Paris|2008-09-27 19:29:28|An American in Pa...|\n",
      "|324|       Academy Award|2008-12-28 17:50:43|The Academy Award...|\n",
      "|330|             Actrius|2008-05-23 15:24:32|Actrius (Actresse...|\n",
      "|332|     Animalia (book)|2008-12-18 11:12:34|thumbAnimalia (IS...|\n",
      "|334|International Ato...|2008-11-21 22:40:20|International Ato...|\n",
      "|336|            Altruism|2008-12-27 03:57:17|Altruism is selfl...|\n",
      "|339|            Ayn Rand|2008-12-30 08:03:06|Ayn Rand (,  – Ma...|\n",
      "|340|        Alain Connes|2008-09-03 13:41:39|Alain Connes (bor...|\n",
      "|344|          Allan Dwan|2008-11-14 05:28:58|Allan Dwan (April...|\n",
      "|358|             Algeria|2008-12-29 02:54:36|Algeria (, al-Jaz...|\n",
      "|359|List of character...|2008-12-23 20:20:21|This is a list of...|\n",
      "|569|        Anthropology|2008-12-28 23:04:30|Anthropology (, f...|\n",
      "+---+--------------------+-------------------+--------------------+\n",
      "only showing top 20 rows"
     ]
    }
   ],
   "source": [
    "rawdata = spark.read.options(sep=\"\\t\").csv(\"s3://aws-emr-studio-591937272615-eu-west-1/1734105183291/subset-small.tsv\")\n",
    "rawdata.show()"
   ]
  },
  {
   "cell_type": "markdown",
   "id": "3bf8ded9-25a3-490b-9470-6fbcaf581a08",
   "metadata": {},
   "source": [
    "Seems there are no column names in our source data, so we'll have to add them ourselves:"
   ]
  },
  {
   "cell_type": "code",
   "execution_count": 5,
   "id": "86430357-08a3-4b6a-89e3-0baef6931362",
   "metadata": {
    "execution": {
     "iopub.execute_input": "2024-12-13T16:08:20.885564Z",
     "iopub.status.busy": "2024-12-13T16:08:20.885092Z",
     "iopub.status.idle": "2024-12-13T16:08:21.785898Z",
     "shell.execute_reply": "2024-12-13T16:08:21.785165Z",
     "shell.execute_reply.started": "2024-12-13T16:08:20.885528Z"
    },
    "executionRoleArn": "arn:aws:iam::591937272615:role/service-role/aws-ml-cert-emr-runtime-role-2",
    "tags": []
   },
   "outputs": [
    {
     "data": {
      "application/vnd.jupyter.widget-view+json": {
       "model_id": "141cfb032b35465f9997bac1be0418eb",
       "version_major": 2,
       "version_minor": 0
      },
      "text/plain": [
       "VBox()"
      ]
     },
     "metadata": {},
     "output_type": "display_data"
    },
    {
     "data": {
      "application/vnd.jupyter.widget-view+json": {
       "model_id": "",
       "version_major": 2,
       "version_minor": 0
      },
      "text/plain": [
       "FloatProgress(value=0.0, bar_style='info', description='Progress:', layout=Layout(height='25px', width='50%'),…"
      ]
     },
     "metadata": {},
     "output_type": "display_data"
    },
    {
     "name": "stdout",
     "output_type": "stream",
     "text": [
      "+---+--------------------+-------------------+--------------------+\n",
      "| ID|               Title|               Time|            Document|\n",
      "+---+--------------------+-------------------+--------------------+\n",
      "| 12|           Anarchism|2008-12-30 06:23:05|Anarchism (someti...|\n",
      "| 25|              Autism|2008-12-24 20:41:05|Autism is a brain...|\n",
      "| 39|              Albedo|2008-12-29 18:19:09|The albedo of an ...|\n",
      "|290|                   A|2008-12-27 04:33:16|The letter A is t...|\n",
      "|303|             Alabama|2008-12-29 08:15:47|Alabama (formally...|\n",
      "|305|            Achilles|2008-12-30 06:18:01|thumb\\n\\nIn Greek...|\n",
      "|307|     Abraham Lincoln|2008-12-28 20:18:23|Abraham Lincoln (...|\n",
      "|308|           Aristotle|2008-12-29 23:54:48|Aristotle (Greek:...|\n",
      "|309|An American in Paris|2008-09-27 19:29:28|An American in Pa...|\n",
      "|324|       Academy Award|2008-12-28 17:50:43|The Academy Award...|\n",
      "|330|             Actrius|2008-05-23 15:24:32|Actrius (Actresse...|\n",
      "|332|     Animalia (book)|2008-12-18 11:12:34|thumbAnimalia (IS...|\n",
      "|334|International Ato...|2008-11-21 22:40:20|International Ato...|\n",
      "|336|            Altruism|2008-12-27 03:57:17|Altruism is selfl...|\n",
      "|339|            Ayn Rand|2008-12-30 08:03:06|Ayn Rand (,  – Ma...|\n",
      "|340|        Alain Connes|2008-09-03 13:41:39|Alain Connes (bor...|\n",
      "|344|          Allan Dwan|2008-11-14 05:28:58|Allan Dwan (April...|\n",
      "|358|             Algeria|2008-12-29 02:54:36|Algeria (, al-Jaz...|\n",
      "|359|List of character...|2008-12-23 20:20:21|This is a list of...|\n",
      "|569|        Anthropology|2008-12-28 23:04:30|Anthropology (, f...|\n",
      "+---+--------------------+-------------------+--------------------+\n",
      "only showing top 20 rows"
     ]
    }
   ],
   "source": [
    "articles = rawdata.toDF(\"ID\", \"Title\", \"Time\", \"Document\")\n",
    "articles.show()"
   ]
  },
  {
   "cell_type": "markdown",
   "id": "76e98d68-381a-442b-b276-73cbeadade3e",
   "metadata": {},
   "source": [
    "Next we need to \"clean\" our data. We know TF/IDF can't handle null documents, so first let's check for that."
   ]
  },
  {
   "cell_type": "code",
   "execution_count": 6,
   "id": "32588c28-fdc4-4389-8d5d-3065c8d37a3d",
   "metadata": {
    "execution": {
     "iopub.execute_input": "2024-12-13T16:08:32.786414Z",
     "iopub.status.busy": "2024-12-13T16:08:32.785967Z",
     "iopub.status.idle": "2024-12-13T16:08:34.216719Z",
     "shell.execute_reply": "2024-12-13T16:08:34.215968Z",
     "shell.execute_reply.started": "2024-12-13T16:08:32.786383Z"
    },
    "executionRoleArn": "arn:aws:iam::591937272615:role/service-role/aws-ml-cert-emr-runtime-role-2",
    "tags": []
   },
   "outputs": [
    {
     "data": {
      "application/vnd.jupyter.widget-view+json": {
       "model_id": "2c944880b013463886c6ee8915c3f96e",
       "version_major": 2,
       "version_minor": 0
      },
      "text/plain": [
       "VBox()"
      ]
     },
     "metadata": {},
     "output_type": "display_data"
    },
    {
     "data": {
      "application/vnd.jupyter.widget-view+json": {
       "model_id": "",
       "version_major": 2,
       "version_minor": 0
      },
      "text/plain": [
       "FloatProgress(value=0.0, bar_style='info', description='Progress:', layout=Layout(height='25px', width='50%'),…"
      ]
     },
     "metadata": {},
     "output_type": "display_data"
    },
    {
     "name": "stdout",
     "output_type": "stream",
     "text": [
      "1"
     ]
    }
   ],
   "source": [
    "articles.filter(articles.Document.isNull()).count()"
   ]
  },
  {
   "cell_type": "markdown",
   "id": "4a925d14-1225-4de1-982d-52056299549f",
   "metadata": {},
   "source": [
    "Looks like there is one null document. As there is only one and it's clearly corrupt when we look into it, we can just remove it and call it a day."
   ]
  },
  {
   "cell_type": "code",
   "execution_count": 7,
   "id": "1edc736d-fd9e-4114-9e9d-1d8d90cb985a",
   "metadata": {
    "execution": {
     "iopub.execute_input": "2024-12-13T16:09:41.011822Z",
     "iopub.status.busy": "2024-12-13T16:09:41.011032Z",
     "iopub.status.idle": "2024-12-13T16:09:42.459218Z",
     "shell.execute_reply": "2024-12-13T16:09:42.458528Z",
     "shell.execute_reply.started": "2024-12-13T16:09:41.011782Z"
    },
    "executionRoleArn": "arn:aws:iam::591937272615:role/service-role/aws-ml-cert-emr-runtime-role-2",
    "tags": []
   },
   "outputs": [
    {
     "data": {
      "application/vnd.jupyter.widget-view+json": {
       "model_id": "3c44929563334f04a51b1e61f8b82778",
       "version_major": 2,
       "version_minor": 0
      },
      "text/plain": [
       "VBox()"
      ]
     },
     "metadata": {},
     "output_type": "display_data"
    },
    {
     "data": {
      "application/vnd.jupyter.widget-view+json": {
       "model_id": "",
       "version_major": 2,
       "version_minor": 0
      },
      "text/plain": [
       "FloatProgress(value=0.0, bar_style='info', description='Progress:', layout=Layout(height='25px', width='50%'),…"
      ]
     },
     "metadata": {},
     "output_type": "display_data"
    },
    {
     "name": "stdout",
     "output_type": "stream",
     "text": [
      "0"
     ]
    }
   ],
   "source": [
    "cleanedArticles = articles.filter(articles.Document.isNotNull())\n",
    "cleanedArticles.filter(articles.Document.isNull()).count()"
   ]
  },
  {
   "cell_type": "markdown",
   "id": "ff5a6112-640d-4e70-9590-2c300e676f0e",
   "metadata": {},
   "source": [
    "TF/IDF wants numbers, not words. So now we need to pre-process our data before we can run any fun algorithms on it. We'll first tokenize the articles to split them up into words, and store them in a sparse vector that is now a numeric representation of the words in each article."
   ]
  },
  {
   "cell_type": "code",
   "execution_count": 8,
   "id": "3b74d52d-eca9-41eb-b771-1c20d226967b",
   "metadata": {
    "execution": {
     "iopub.execute_input": "2024-12-13T16:10:45.863175Z",
     "iopub.status.busy": "2024-12-13T16:10:45.862717Z",
     "iopub.status.idle": "2024-12-13T16:10:46.815758Z",
     "shell.execute_reply": "2024-12-13T16:10:46.814995Z",
     "shell.execute_reply.started": "2024-12-13T16:10:45.863142Z"
    },
    "executionRoleArn": "arn:aws:iam::591937272615:role/service-role/aws-ml-cert-emr-runtime-role-2",
    "tags": []
   },
   "outputs": [
    {
     "data": {
      "application/vnd.jupyter.widget-view+json": {
       "model_id": "3a437c4c97134b95aa088a53ccdcd334",
       "version_major": 2,
       "version_minor": 0
      },
      "text/plain": [
       "VBox()"
      ]
     },
     "metadata": {},
     "output_type": "display_data"
    },
    {
     "data": {
      "application/vnd.jupyter.widget-view+json": {
       "model_id": "",
       "version_major": 2,
       "version_minor": 0
      },
      "text/plain": [
       "FloatProgress(value=0.0, bar_style='info', description='Progress:', layout=Layout(height='25px', width='50%'),…"
      ]
     },
     "metadata": {},
     "output_type": "display_data"
    }
   ],
   "source": [
    "from pyspark.ml.feature import HashingTF, IDF, Tokenizer\n",
    "\n",
    "tokenizer= Tokenizer(inputCol=\"Document\", outputCol=\"words\")\n",
    "wordsData = tokenizer.transform(cleanedArticles)"
   ]
  },
  {
   "cell_type": "code",
   "execution_count": 9,
   "id": "d5cff6d6-86d8-49b7-bc49-5e7e7bb70037",
   "metadata": {
    "execution": {
     "iopub.execute_input": "2024-12-13T16:10:51.520375Z",
     "iopub.status.busy": "2024-12-13T16:10:51.519908Z",
     "iopub.status.idle": "2024-12-13T16:10:54.989738Z",
     "shell.execute_reply": "2024-12-13T16:10:54.989071Z",
     "shell.execute_reply.started": "2024-12-13T16:10:51.520343Z"
    },
    "executionRoleArn": "arn:aws:iam::591937272615:role/service-role/aws-ml-cert-emr-runtime-role-2",
    "tags": []
   },
   "outputs": [
    {
     "data": {
      "application/vnd.jupyter.widget-view+json": {
       "model_id": "506a7db24e6645498c7ea7582386f680",
       "version_major": 2,
       "version_minor": 0
      },
      "text/plain": [
       "VBox()"
      ]
     },
     "metadata": {},
     "output_type": "display_data"
    },
    {
     "data": {
      "application/vnd.jupyter.widget-view+json": {
       "model_id": "",
       "version_major": 2,
       "version_minor": 0
      },
      "text/plain": [
       "FloatProgress(value=0.0, bar_style='info', description='Progress:', layout=Layout(height='25px', width='50%'),…"
      ]
     },
     "metadata": {},
     "output_type": "display_data"
    },
    {
     "name": "stdout",
     "output_type": "stream",
     "text": [
      "+---+--------------------+-------------------+--------------------+--------------------+--------------------+\n",
      "| ID|               Title|               Time|            Document|               words|         rawFeatures|\n",
      "+---+--------------------+-------------------+--------------------+--------------------+--------------------+\n",
      "| 12|           Anarchism|2008-12-30 06:23:05|Anarchism (someti...|[anarchism, (some...|(262144,[116,120,...|\n",
      "| 25|              Autism|2008-12-24 20:41:05|Autism is a brain...|[autism, is, a, b...|(262144,[521,1546...|\n",
      "| 39|              Albedo|2008-12-29 18:19:09|The albedo of an ...|[the, albedo, of,...|(262144,[1625,179...|\n",
      "|290|                   A|2008-12-27 04:33:16|The letter A is t...|[the, letter, a, ...|(262144,[5303,603...|\n",
      "|303|             Alabama|2008-12-29 08:15:47|Alabama (formally...|[alabama, (formal...|(262144,[93,115,3...|\n",
      "|305|            Achilles|2008-12-30 06:18:01|thumb\\n\\nIn Greek...|[thumb\\n\\nin, gre...|(262144,[305,991,...|\n",
      "|307|     Abraham Lincoln|2008-12-28 20:18:23|Abraham Lincoln (...|[abraham, lincoln...|(262144,[115,440,...|\n",
      "|308|           Aristotle|2008-12-29 23:54:48|Aristotle (Greek:...|[aristotle, (gree...|(262144,[154,619,...|\n",
      "|309|An American in Paris|2008-09-27 19:29:28|An American in Pa...|[an, american, in...|(262144,[2366,313...|\n",
      "|324|       Academy Award|2008-12-28 17:50:43|The Academy Award...|[the, academy, aw...|(262144,[161,521,...|\n",
      "|330|             Actrius|2008-05-23 15:24:32|Actrius (Actresse...|[actrius, (actres...|(262144,[6558,674...|\n",
      "|332|     Animalia (book)|2008-12-18 11:12:34|thumbAnimalia (IS...|[thumbanimalia, (...|(262144,[2284,609...|\n",
      "|334|International Ato...|2008-11-21 22:40:20|International Ato...|[international, a...|(262144,[847,925,...|\n",
      "|336|            Altruism|2008-12-27 03:57:17|Altruism is selfl...|[altruism, is, se...|(262144,[521,1272...|\n",
      "|339|            Ayn Rand|2008-12-30 08:03:06|Ayn Rand (,  – Ma...|[ayn, rand, (,, ,...|(262144,[116,365,...|\n",
      "|340|        Alain Connes|2008-09-03 13:41:39|Alain Connes (bor...|[alain, connes, (...|(262144,[154,1595...|\n",
      "|344|          Allan Dwan|2008-11-14 05:28:58|Allan Dwan (April...|[allan, dwan, (ap...|(262144,[1578,181...|\n",
      "|358|             Algeria|2008-12-29 02:54:36|Algeria (, al-Jaz...|[algeria, (,, al-...|(262144,[161,369,...|\n",
      "|359|List of character...|2008-12-23 20:20:21|This is a list of...|[this, is, a, lis...|(262144,[19,120,3...|\n",
      "|569|        Anthropology|2008-12-28 23:04:30|Anthropology (, f...|[anthropology, (,...|(262144,[154,528,...|\n",
      "+---+--------------------+-------------------+--------------------+--------------------+--------------------+\n",
      "only showing top 20 rows"
     ]
    }
   ],
   "source": [
    "hashingTF = HashingTF(inputCol=\"words\", outputCol=\"rawFeatures\")\n",
    "featurizedData = hashingTF.transform(wordsData)\n",
    "featurizedData.show()"
   ]
  },
  {
   "cell_type": "markdown",
   "id": "fe626404-a76c-4a2c-b11b-5bbf31d62af9",
   "metadata": {},
   "source": [
    "That hashing operation basically computed term frequencies for us by storing how often each hashed word occured in each article. So we have TF, but we want TF/IDF scores for every term in every document. We'll store these final scores in a new column called \"features\", which is a sparse vector containing TF/IDF scores for each feature."
   ]
  },
  {
   "cell_type": "code",
   "execution_count": 10,
   "id": "6a5fb92c-1fd3-48d8-b86e-0a9664dd4cee",
   "metadata": {
    "execution": {
     "iopub.execute_input": "2024-12-13T16:12:07.631849Z",
     "iopub.status.busy": "2024-12-13T16:12:07.631413Z",
     "iopub.status.idle": "2024-12-13T16:12:15.181495Z",
     "shell.execute_reply": "2024-12-13T16:12:15.180808Z",
     "shell.execute_reply.started": "2024-12-13T16:12:07.631819Z"
    },
    "executionRoleArn": "arn:aws:iam::591937272615:role/service-role/aws-ml-cert-emr-runtime-role-2",
    "tags": []
   },
   "outputs": [
    {
     "data": {
      "application/vnd.jupyter.widget-view+json": {
       "model_id": "7f105a080b814f91abf67204b8f57b32",
       "version_major": 2,
       "version_minor": 0
      },
      "text/plain": [
       "VBox()"
      ]
     },
     "metadata": {},
     "output_type": "display_data"
    },
    {
     "data": {
      "application/vnd.jupyter.widget-view+json": {
       "model_id": "",
       "version_major": 2,
       "version_minor": 0
      },
      "text/plain": [
       "FloatProgress(value=0.0, bar_style='info', description='Progress:', layout=Layout(height='25px', width='50%'),…"
      ]
     },
     "metadata": {},
     "output_type": "display_data"
    }
   ],
   "source": [
    "idf = IDF(inputCol=\"rawFeatures\", outputCol=\"features\")\n",
    "idfModel = idf.fit(featurizedData)\n",
    "rescaledData = idfModel.transform(featurizedData)"
   ]
  },
  {
   "cell_type": "code",
   "execution_count": 11,
   "id": "f452acfe-c743-4099-9411-04ed4a19f2d6",
   "metadata": {
    "execution": {
     "iopub.execute_input": "2024-12-13T16:12:18.608839Z",
     "iopub.status.busy": "2024-12-13T16:12:18.608374Z",
     "iopub.status.idle": "2024-12-13T16:12:20.033009Z",
     "shell.execute_reply": "2024-12-13T16:12:20.032175Z",
     "shell.execute_reply.started": "2024-12-13T16:12:18.608806Z"
    },
    "executionRoleArn": "arn:aws:iam::591937272615:role/service-role/aws-ml-cert-emr-runtime-role-2",
    "tags": []
   },
   "outputs": [
    {
     "data": {
      "application/vnd.jupyter.widget-view+json": {
       "model_id": "516b2463af594543b0f8b3e6d001e1fb",
       "version_major": 2,
       "version_minor": 0
      },
      "text/plain": [
       "VBox()"
      ]
     },
     "metadata": {},
     "output_type": "display_data"
    },
    {
     "data": {
      "application/vnd.jupyter.widget-view+json": {
       "model_id": "",
       "version_major": 2,
       "version_minor": 0
      },
      "text/plain": [
       "FloatProgress(value=0.0, bar_style='info', description='Progress:', layout=Layout(height='25px', width='50%'),…"
      ]
     },
     "metadata": {},
     "output_type": "display_data"
    },
    {
     "name": "stdout",
     "output_type": "stream",
     "text": [
      "+---+--------------------+-------------------+--------------------+--------------------+--------------------+--------------------+\n",
      "| ID|               Title|               Time|            Document|               words|         rawFeatures|            features|\n",
      "+---+--------------------+-------------------+--------------------+--------------------+--------------------+--------------------+\n",
      "| 12|           Anarchism|2008-12-30 06:23:05|Anarchism (someti...|[anarchism, (some...|(262144,[116,120,...|(262144,[116,120,...|\n",
      "| 25|              Autism|2008-12-24 20:41:05|Autism is a brain...|[autism, is, a, b...|(262144,[521,1546...|(262144,[521,1546...|\n",
      "| 39|              Albedo|2008-12-29 18:19:09|The albedo of an ...|[the, albedo, of,...|(262144,[1625,179...|(262144,[1625,179...|\n",
      "|290|                   A|2008-12-27 04:33:16|The letter A is t...|[the, letter, a, ...|(262144,[5303,603...|(262144,[5303,603...|\n",
      "|303|             Alabama|2008-12-29 08:15:47|Alabama (formally...|[alabama, (formal...|(262144,[93,115,3...|(262144,[93,115,3...|\n",
      "|305|            Achilles|2008-12-30 06:18:01|thumb\\n\\nIn Greek...|[thumb\\n\\nin, gre...|(262144,[305,991,...|(262144,[305,991,...|\n",
      "|307|     Abraham Lincoln|2008-12-28 20:18:23|Abraham Lincoln (...|[abraham, lincoln...|(262144,[115,440,...|(262144,[115,440,...|\n",
      "|308|           Aristotle|2008-12-29 23:54:48|Aristotle (Greek:...|[aristotle, (gree...|(262144,[154,619,...|(262144,[154,619,...|\n",
      "|309|An American in Paris|2008-09-27 19:29:28|An American in Pa...|[an, american, in...|(262144,[2366,313...|(262144,[2366,313...|\n",
      "|324|       Academy Award|2008-12-28 17:50:43|The Academy Award...|[the, academy, aw...|(262144,[161,521,...|(262144,[161,521,...|\n",
      "|330|             Actrius|2008-05-23 15:24:32|Actrius (Actresse...|[actrius, (actres...|(262144,[6558,674...|(262144,[6558,674...|\n",
      "|332|     Animalia (book)|2008-12-18 11:12:34|thumbAnimalia (IS...|[thumbanimalia, (...|(262144,[2284,609...|(262144,[2284,609...|\n",
      "|334|International Ato...|2008-11-21 22:40:20|International Ato...|[international, a...|(262144,[847,925,...|(262144,[847,925,...|\n",
      "|336|            Altruism|2008-12-27 03:57:17|Altruism is selfl...|[altruism, is, se...|(262144,[521,1272...|(262144,[521,1272...|\n",
      "|339|            Ayn Rand|2008-12-30 08:03:06|Ayn Rand (,  – Ma...|[ayn, rand, (,, ,...|(262144,[116,365,...|(262144,[116,365,...|\n",
      "|340|        Alain Connes|2008-09-03 13:41:39|Alain Connes (bor...|[alain, connes, (...|(262144,[154,1595...|(262144,[154,1595...|\n",
      "|344|          Allan Dwan|2008-11-14 05:28:58|Allan Dwan (April...|[allan, dwan, (ap...|(262144,[1578,181...|(262144,[1578,181...|\n",
      "|358|             Algeria|2008-12-29 02:54:36|Algeria (, al-Jaz...|[algeria, (,, al-...|(262144,[161,369,...|(262144,[161,369,...|\n",
      "|359|List of character...|2008-12-23 20:20:21|This is a list of...|[this, is, a, lis...|(262144,[19,120,3...|(262144,[19,120,3...|\n",
      "|569|        Anthropology|2008-12-28 23:04:30|Anthropology (, f...|[anthropology, (,...|(262144,[154,528,...|(262144,[154,528,...|\n",
      "+---+--------------------+-------------------+--------------------+--------------------+--------------------+--------------------+\n",
      "only showing top 20 rows"
     ]
    }
   ],
   "source": [
    "rescaledData.show()"
   ]
  },
  {
   "cell_type": "markdown",
   "id": "c6e3c521-1542-4f23-9bb7-8217403aa5ff",
   "metadata": {},
   "source": [
    "So let's use this to do a search for the term \"Gettysburg\". Again, we need numbers, not words, so the first task is to get the hash value for \"Gettysburg\""
   ]
  },
  {
   "cell_type": "code",
   "execution_count": 12,
   "id": "d18e0581-6a32-4ff8-b075-289128f77c98",
   "metadata": {
    "execution": {
     "iopub.execute_input": "2024-12-13T16:13:21.669506Z",
     "iopub.status.busy": "2024-12-13T16:13:21.669051Z",
     "iopub.status.idle": "2024-12-13T16:13:25.183992Z",
     "shell.execute_reply": "2024-12-13T16:13:25.183255Z",
     "shell.execute_reply.started": "2024-12-13T16:13:21.669467Z"
    },
    "executionRoleArn": "arn:aws:iam::591937272615:role/service-role/aws-ml-cert-emr-runtime-role-2",
    "tags": []
   },
   "outputs": [
    {
     "data": {
      "application/vnd.jupyter.widget-view+json": {
       "model_id": "a558cf6a77484921a4ce9e9572c647eb",
       "version_major": 2,
       "version_minor": 0
      },
      "text/plain": [
       "VBox()"
      ]
     },
     "metadata": {},
     "output_type": "display_data"
    },
    {
     "data": {
      "application/vnd.jupyter.widget-view+json": {
       "model_id": "",
       "version_major": 2,
       "version_minor": 0
      },
      "text/plain": [
       "FloatProgress(value=0.0, bar_style='info', description='Progress:', layout=Layout(height='25px', width='50%'),…"
      ]
     },
     "metadata": {},
     "output_type": "display_data"
    },
    {
     "name": "stdout",
     "output_type": "stream",
     "text": [
      "+------------+\n",
      "|       words|\n",
      "+------------+\n",
      "|[gettysburg]|\n",
      "+------------+\n",
      "\n",
      "+------------+--------------------+\n",
      "|       words|         rawFeatures|\n",
      "+------------+--------------------+\n",
      "|[gettysburg]|(262144,[116775],...|\n",
      "+------------+--------------------+\n",
      "\n",
      "[Row(rawFeatures=SparseVector(262144, {116775: 1.0}))]\n",
      "116775"
     ]
    }
   ],
   "source": [
    "from pyspark.sql.types import *\n",
    "\n",
    "schema = StructType([StructField(\"words\", ArrayType(StringType()))])\n",
    "\n",
    "df = spark.createDataFrame(([[[\"gettysburg\"]]]), schema).toDF(\"words\")\n",
    "df.show()\n",
    "\n",
    "gettysburg = hashingTF.transform(df)\n",
    "gettysburg.show()\n",
    "\n",
    "featureVec = gettysburg.select('rawFeatures').collect()\n",
    "print(featureVec)\n",
    "\n",
    "gettysburgID = int(featureVec[0].rawFeatures.indices[0])\n",
    "print(gettysburgID)"
   ]
  },
  {
   "cell_type": "markdown",
   "id": "bb9ba586-90f0-4042-9605-4ec4503d217f",
   "metadata": {},
   "source": [
    "OK, we have the magic number that represents \"Gettysburg\". Now we can add another column - we'll call it \"score\" - that just extracts the TF/IDF value for Gettysburg for each document."
   ]
  },
  {
   "cell_type": "code",
   "execution_count": 13,
   "id": "c093b7e6-9e6d-4469-a11f-85ebaf8ccd07",
   "metadata": {
    "execution": {
     "iopub.execute_input": "2024-12-13T16:14:05.488827Z",
     "iopub.status.busy": "2024-12-13T16:14:05.488042Z",
     "iopub.status.idle": "2024-12-13T16:14:07.985346Z",
     "shell.execute_reply": "2024-12-13T16:14:07.984665Z",
     "shell.execute_reply.started": "2024-12-13T16:14:05.488793Z"
    },
    "executionRoleArn": "arn:aws:iam::591937272615:role/service-role/aws-ml-cert-emr-runtime-role-2",
    "tags": []
   },
   "outputs": [
    {
     "data": {
      "application/vnd.jupyter.widget-view+json": {
       "model_id": "40d4c2a308c943fd9d20d72a0213c109",
       "version_major": 2,
       "version_minor": 0
      },
      "text/plain": [
       "VBox()"
      ]
     },
     "metadata": {},
     "output_type": "display_data"
    },
    {
     "data": {
      "application/vnd.jupyter.widget-view+json": {
       "model_id": "",
       "version_major": 2,
       "version_minor": 0
      },
      "text/plain": [
       "FloatProgress(value=0.0, bar_style='info', description='Progress:', layout=Layout(height='25px', width='50%'),…"
      ]
     },
     "metadata": {},
     "output_type": "display_data"
    },
    {
     "name": "stdout",
     "output_type": "stream",
     "text": [
      "+---+--------------------+-------------------+--------------------+--------------------+--------------------+--------------------+---------+\n",
      "| ID|               Title|               Time|            Document|               words|         rawFeatures|            features|    score|\n",
      "+---+--------------------+-------------------+--------------------+--------------------+--------------------+--------------------+---------+\n",
      "| 12|           Anarchism|2008-12-30 06:23:05|Anarchism (someti...|[anarchism, (some...|(262144,[116,120,...|(262144,[116,120,...|      0.0|\n",
      "| 25|              Autism|2008-12-24 20:41:05|Autism is a brain...|[autism, is, a, b...|(262144,[521,1546...|(262144,[521,1546...|      0.0|\n",
      "| 39|              Albedo|2008-12-29 18:19:09|The albedo of an ...|[the, albedo, of,...|(262144,[1625,179...|(262144,[1625,179...|      0.0|\n",
      "|290|                   A|2008-12-27 04:33:16|The letter A is t...|[the, letter, a, ...|(262144,[5303,603...|(262144,[5303,603...|      0.0|\n",
      "|303|             Alabama|2008-12-29 08:15:47|Alabama (formally...|[alabama, (formal...|(262144,[93,115,3...|(262144,[93,115,3...|      0.0|\n",
      "|305|            Achilles|2008-12-30 06:18:01|thumb\\n\\nIn Greek...|[thumb\\n\\nin, gre...|(262144,[305,991,...|(262144,[305,991,...|      0.0|\n",
      "|307|     Abraham Lincoln|2008-12-28 20:18:23|Abraham Lincoln (...|[abraham, lincoln...|(262144,[115,440,...|(262144,[115,440,...|30.695974|\n",
      "|308|           Aristotle|2008-12-29 23:54:48|Aristotle (Greek:...|[aristotle, (gree...|(262144,[154,619,...|(262144,[154,619,...|      0.0|\n",
      "|309|An American in Paris|2008-09-27 19:29:28|An American in Pa...|[an, american, in...|(262144,[2366,313...|(262144,[2366,313...|      0.0|\n",
      "|324|       Academy Award|2008-12-28 17:50:43|The Academy Award...|[the, academy, aw...|(262144,[161,521,...|(262144,[161,521,...|      0.0|\n",
      "|330|             Actrius|2008-05-23 15:24:32|Actrius (Actresse...|[actrius, (actres...|(262144,[6558,674...|(262144,[6558,674...|      0.0|\n",
      "|332|     Animalia (book)|2008-12-18 11:12:34|thumbAnimalia (IS...|[thumbanimalia, (...|(262144,[2284,609...|(262144,[2284,609...|      0.0|\n",
      "|334|International Ato...|2008-11-21 22:40:20|International Ato...|[international, a...|(262144,[847,925,...|(262144,[847,925,...|      0.0|\n",
      "|336|            Altruism|2008-12-27 03:57:17|Altruism is selfl...|[altruism, is, se...|(262144,[521,1272...|(262144,[521,1272...|      0.0|\n",
      "|339|            Ayn Rand|2008-12-30 08:03:06|Ayn Rand (,  – Ma...|[ayn, rand, (,, ,...|(262144,[116,365,...|(262144,[116,365,...|      0.0|\n",
      "|340|        Alain Connes|2008-09-03 13:41:39|Alain Connes (bor...|[alain, connes, (...|(262144,[154,1595...|(262144,[154,1595...|      0.0|\n",
      "|344|          Allan Dwan|2008-11-14 05:28:58|Allan Dwan (April...|[allan, dwan, (ap...|(262144,[1578,181...|(262144,[1578,181...|      0.0|\n",
      "|358|             Algeria|2008-12-29 02:54:36|Algeria (, al-Jaz...|[algeria, (,, al-...|(262144,[161,369,...|(262144,[161,369,...|      0.0|\n",
      "|359|List of character...|2008-12-23 20:20:21|This is a list of...|[this, is, a, lis...|(262144,[19,120,3...|(262144,[19,120,3...|      0.0|\n",
      "|569|        Anthropology|2008-12-28 23:04:30|Anthropology (, f...|[anthropology, (,...|(262144,[154,528,...|(262144,[154,528,...|      0.0|\n",
      "+---+--------------------+-------------------+--------------------+--------------------+--------------------+--------------------+---------+\n",
      "only showing top 20 rows"
     ]
    }
   ],
   "source": [
    "from pyspark.sql.types import FloatType\n",
    "from pyspark.sql.functions import udf\n",
    "\n",
    "termExtractor = udf(lambda x: float(x[gettysburgID]), FloatType())\n",
    "gettysburgDF = rescaledData.withColumn('score', termExtractor(rescaledData.features))\n",
    "\n",
    "gettysburgDF.show()\n",
    "                                                        "
   ]
  },
  {
   "cell_type": "markdown",
   "id": "af4420e6-f6e2-4151-8ac1-ac35fba42040",
   "metadata": {},
   "source": [
    "Now all we have to do is sort our articles by score, and we'll have the most relevant articles for Gettysburg!"
   ]
  },
  {
   "cell_type": "code",
   "execution_count": 14,
   "id": "66a93a5a-f2e3-48b9-b216-000b8361eee4",
   "metadata": {
    "execution": {
     "iopub.execute_input": "2024-12-13T16:14:48.130104Z",
     "iopub.status.busy": "2024-12-13T16:14:48.129622Z",
     "iopub.status.idle": "2024-12-13T16:14:51.603719Z",
     "shell.execute_reply": "2024-12-13T16:14:51.602978Z",
     "shell.execute_reply.started": "2024-12-13T16:14:48.130061Z"
    },
    "executionRoleArn": "arn:aws:iam::591937272615:role/service-role/aws-ml-cert-emr-runtime-role-2",
    "tags": []
   },
   "outputs": [
    {
     "data": {
      "application/vnd.jupyter.widget-view+json": {
       "model_id": "24e0bc3321df44f78d5a92950a15a156",
       "version_major": 2,
       "version_minor": 0
      },
      "text/plain": [
       "VBox()"
      ]
     },
     "metadata": {},
     "output_type": "display_data"
    },
    {
     "data": {
      "application/vnd.jupyter.widget-view+json": {
       "model_id": "",
       "version_major": 2,
       "version_minor": 0
      },
      "text/plain": [
       "FloatProgress(value=0.0, bar_style='info', description='Progress:', layout=Layout(height='25px', width='50%'),…"
      ]
     },
     "metadata": {},
     "output_type": "display_data"
    },
    {
     "name": "stdout",
     "output_type": "stream",
     "text": [
      "+----+------------------+----------------------------------------------------------------------------------------------------+---------+\n",
      "|  ID|             Title|                                                                                            Document|    score|\n",
      "+----+------------------+----------------------------------------------------------------------------------------------------+---------+\n",
      "| 307|   Abraham Lincoln|Abraham Lincoln (February 12, 1809 – April 15, 1865) was the sixteenth President of the United St...|30.695974|\n",
      "|1135|   Abner Doubleday|Abner Doubleday (June 26, 1819 – January 26, 1893) was a career United States Army officer and Un...|25.579979|\n",
      "| 863|American Civil War|The American Civil War (1861–1865), also known as the War Between the States and several other na...|15.347987|\n",
      "|1998|     Austin, Texas|Austin is the capital of the U.S. state of Texas and the county seat of Travis County. Situated i...| 5.115996|\n",
      "|2085|           Assyria|Assyria was a geographic region on the Upper Tigris river, named for its original capital, the an...| 5.115996|\n",
      "+----+------------------+----------------------------------------------------------------------------------------------------+---------+"
     ]
    }
   ],
   "source": [
    "sortedResults = gettysburgDF.filter(\"score > 0\").orderBy('score', ascending=False).select('ID', 'Title', 'Document', 'score')\n",
    "sortedResults.show(truncate=100)"
   ]
  },
  {
   "cell_type": "code",
   "execution_count": null,
   "id": "a9ded2ec-47ed-4174-871a-70146083beb2",
   "metadata": {},
   "outputs": [],
   "source": []
  }
 ],
 "metadata": {
  "kernelspec": {
   "display_name": "PySpark",
   "language": "python",
   "name": "spark_magic_pyspark"
  },
  "language_info": {
   "codemirror_mode": {
    "name": "python",
    "version": 3
   },
   "file_extension": ".py",
   "mimetype": "text/x-python",
   "name": "pyspark",
   "pygments_lexer": "python3"
  }
 },
 "nbformat": 4,
 "nbformat_minor": 5
}
